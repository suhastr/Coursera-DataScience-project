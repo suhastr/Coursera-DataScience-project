{
    "nbformat_minor": 2, 
    "cells": [
        {
            "source": "# loading libraries\n", 
            "cell_type": "markdown", 
            "metadata": {}
        }, 
        {
            "execution_count": 125, 
            "cell_type": "code", 
            "metadata": {}, 
            "outputs": [], 
            "source": "import numpy as np\nimport matplotlib.pyplot as plt\nfrom matplotlib.ticker import NullFormatter\nimport pandas as pd\nimport numpy as np\nimport matplotlib.ticker as ticker\nfrom sklearn import preprocessing\nfrom sklearn.tree import DecisionTreeClassifier\nimport scipy.optimize as opt\n%matplotlib inline\n"
        }, 
        {
            "execution_count": 126, 
            "cell_type": "code", 
            "metadata": {
                "scrolled": true
            }, 
            "outputs": [], 
            "source": "# The code was removed by Watson Studio for sharing."
        }, 
        {
            "source": "# Reading the data from customer loan dataset", 
            "cell_type": "markdown", 
            "metadata": {}
        }, 
        {
            "execution_count": 127, 
            "cell_type": "code", 
            "metadata": {}, 
            "outputs": [
                {
                    "execution_count": 127, 
                    "metadata": {}, 
                    "data": {
                        "text/html": "<div>\n<style scoped>\n    .dataframe tbody tr th:only-of-type {\n        vertical-align: middle;\n    }\n\n    .dataframe tbody tr th {\n        vertical-align: top;\n    }\n\n    .dataframe thead th {\n        text-align: right;\n    }\n</style>\n<table border=\"1\" class=\"dataframe\">\n  <thead>\n    <tr style=\"text-align: right;\">\n      <th></th>\n      <th>Loan_ID</th>\n      <th>loan_status</th>\n      <th>Principal</th>\n      <th>terms</th>\n      <th>effective_date</th>\n      <th>due_date</th>\n      <th>paid_off_time</th>\n      <th>past_due_days</th>\n      <th>age</th>\n      <th>education</th>\n      <th>Gender</th>\n    </tr>\n  </thead>\n  <tbody>\n    <tr>\n      <th>0</th>\n      <td>xqd20166231</td>\n      <td>PAIDOFF</td>\n      <td>1000</td>\n      <td>30</td>\n      <td>2016-09-08</td>\n      <td>2016-10-07</td>\n      <td>9/14/2016 19:31</td>\n      <td>NaN</td>\n      <td>45</td>\n      <td>High School or Below</td>\n      <td>male</td>\n    </tr>\n    <tr>\n      <th>1</th>\n      <td>xqd20168902</td>\n      <td>PAIDOFF</td>\n      <td>1000</td>\n      <td>30</td>\n      <td>2016-09-08</td>\n      <td>2016-10-07</td>\n      <td>10/7/2016 9:00</td>\n      <td>NaN</td>\n      <td>50</td>\n      <td>Bechalor</td>\n      <td>female</td>\n    </tr>\n    <tr>\n      <th>2</th>\n      <td>xqd20160003</td>\n      <td>PAIDOFF</td>\n      <td>1000</td>\n      <td>30</td>\n      <td>2016-09-08</td>\n      <td>2016-10-07</td>\n      <td>9/25/2016 16:58</td>\n      <td>NaN</td>\n      <td>33</td>\n      <td>Bechalor</td>\n      <td>female</td>\n    </tr>\n    <tr>\n      <th>3</th>\n      <td>xqd20160004</td>\n      <td>PAIDOFF</td>\n      <td>1000</td>\n      <td>15</td>\n      <td>2016-09-08</td>\n      <td>2016-09-22</td>\n      <td>9/22/2016 20:00</td>\n      <td>NaN</td>\n      <td>27</td>\n      <td>college</td>\n      <td>male</td>\n    </tr>\n    <tr>\n      <th>4</th>\n      <td>xqd20160005</td>\n      <td>PAIDOFF</td>\n      <td>1000</td>\n      <td>30</td>\n      <td>2016-09-09</td>\n      <td>2016-10-08</td>\n      <td>9/23/2016 21:36</td>\n      <td>NaN</td>\n      <td>28</td>\n      <td>college</td>\n      <td>female</td>\n    </tr>\n  </tbody>\n</table>\n</div>", 
                        "text/plain": "       Loan_ID loan_status  Principal  terms effective_date   due_date  \\\n0  xqd20166231     PAIDOFF       1000     30     2016-09-08 2016-10-07   \n1  xqd20168902     PAIDOFF       1000     30     2016-09-08 2016-10-07   \n2  xqd20160003     PAIDOFF       1000     30     2016-09-08 2016-10-07   \n3  xqd20160004     PAIDOFF       1000     15     2016-09-08 2016-09-22   \n4  xqd20160005     PAIDOFF       1000     30     2016-09-09 2016-10-08   \n\n     paid_off_time  past_due_days  age             education  Gender  \n0  9/14/2016 19:31            NaN   45  High School or Below    male  \n1   10/7/2016 9:00            NaN   50              Bechalor  female  \n2  9/25/2016 16:58            NaN   33              Bechalor  female  \n3  9/22/2016 20:00            NaN   27               college    male  \n4  9/23/2016 21:36            NaN   28               college  female  "
                    }, 
                    "output_type": "execute_result"
                }
            ], 
            "source": "#my_data = pd.read_csv(\"loan.csv\", delimiter=\",\")\nmy_data['due_date'] = pd.to_datetime(my_data['due_date'])\nmy_data['effective_date'] = pd.to_datetime(my_data['effective_date'])\nmy_data.head()"
        }, 
        {
            "source": "# Data Visualization and Analysis ", 
            "cell_type": "markdown", 
            "metadata": {}
        }, 
        {
            "execution_count": 128, 
            "cell_type": "code", 
            "metadata": {}, 
            "outputs": [
                {
                    "execution_count": 128, 
                    "metadata": {}, 
                    "data": {
                        "text/plain": "PAIDOFF               300\nCOLLECTION_PAIDOFF    100\nCOLLECTION            100\nName: loan_status, dtype: int64"
                    }, 
                    "output_type": "execute_result"
                }
            ], 
            "source": "my_data['loan_status'].value_counts()"
        }, 
        {
            "execution_count": 129, 
            "cell_type": "code", 
            "metadata": {}, 
            "outputs": [
                {
                    "execution_count": 129, 
                    "metadata": {}, 
                    "data": {
                        "text/plain": "array([[<matplotlib.axes._subplots.AxesSubplot object at 0x7fad1dfc8be0>]], dtype=object)"
                    }, 
                    "output_type": "execute_result"
                }, 
                {
                    "output_type": "display_data", 
                    "data": {
                        "image/png": "[encoded data removed]", 
                        "text/plain": "<matplotlib.figure.Figure at 0x7fad1dfd0438>"
                    }, 
                    "metadata": {}
                }
            ], 
            "source": "my_data.hist(column='past_due_days', bins=50)"
        }, 
        {
            "source": "# Building Model for KNN", 
            "cell_type": "markdown", 
            "metadata": {}
        }, 
        {
            "source": "# Feature set", 
            "cell_type": "markdown", 
            "metadata": {}
        }, 
        {
            "execution_count": 130, 
            "cell_type": "code", 
            "metadata": {}, 
            "outputs": [
                {
                    "execution_count": 130, 
                    "metadata": {}, 
                    "data": {
                        "text/plain": "Index(['Loan_ID', 'loan_status', 'Principal', 'terms', 'effective_date',\n       'due_date', 'paid_off_time', 'past_due_days', 'age', 'education',\n       'Gender'],\n      dtype='object')"
                    }, 
                    "output_type": "execute_result"
                }
            ], 
            "source": "my_data.columns"
        }, 
        {
            "source": "# Preprocessing ", 
            "cell_type": "markdown", 
            "metadata": {}
        }, 
        {
            "execution_count": 131, 
            "cell_type": "code", 
            "metadata": {
                "scrolled": true
            }, 
            "outputs": [
                {
                    "execution_count": 131, 
                    "metadata": {}, 
                    "data": {
                        "text/html": "<div>\n<style scoped>\n    .dataframe tbody tr th:only-of-type {\n        vertical-align: middle;\n    }\n\n    .dataframe tbody tr th {\n        vertical-align: top;\n    }\n\n    .dataframe thead th {\n        text-align: right;\n    }\n</style>\n<table border=\"1\" class=\"dataframe\">\n  <thead>\n    <tr style=\"text-align: right;\">\n      <th></th>\n      <th>Principal</th>\n      <th>terms</th>\n      <th>age</th>\n      <th>Gender</th>\n      <th>Bechalor</th>\n      <th>High School or Below</th>\n      <th>college</th>\n    </tr>\n  </thead>\n  <tbody>\n    <tr>\n      <th>0</th>\n      <td>1000</td>\n      <td>30</td>\n      <td>45</td>\n      <td>0</td>\n      <td>0</td>\n      <td>1</td>\n      <td>0</td>\n    </tr>\n    <tr>\n      <th>1</th>\n      <td>1000</td>\n      <td>30</td>\n      <td>50</td>\n      <td>1</td>\n      <td>1</td>\n      <td>0</td>\n      <td>0</td>\n    </tr>\n    <tr>\n      <th>2</th>\n      <td>1000</td>\n      <td>30</td>\n      <td>33</td>\n      <td>1</td>\n      <td>1</td>\n      <td>0</td>\n      <td>0</td>\n    </tr>\n    <tr>\n      <th>3</th>\n      <td>1000</td>\n      <td>15</td>\n      <td>27</td>\n      <td>0</td>\n      <td>0</td>\n      <td>0</td>\n      <td>1</td>\n    </tr>\n    <tr>\n      <th>4</th>\n      <td>1000</td>\n      <td>30</td>\n      <td>28</td>\n      <td>1</td>\n      <td>0</td>\n      <td>0</td>\n      <td>1</td>\n    </tr>\n  </tbody>\n</table>\n</div>", 
                        "text/plain": "   Principal  terms  age  Gender  Bechalor  High School or Below  college\n0       1000     30   45       0         0                     1        0\n1       1000     30   50       1         1                     0        0\n2       1000     30   33       1         1                     0        0\n3       1000     15   27       0         0                     0        1\n4       1000     30   28       1         0                     0        1"
                    }, 
                    "output_type": "execute_result"
                }
            ], 
            "source": "my_data['Gender'].replace(to_replace=['male','female'], value=[0,1],inplace=True)\nmy_data.head()\nFeature = my_data[['Principal','terms','age','Gender']]\nFeature = pd.concat([Feature,pd.get_dummies(my_data['education'])], axis=1)\nFeature.drop(['Master or Above'], axis = 1,inplace=True)\nFeature.head()"
        }, 
        {
            "execution_count": 132, 
            "cell_type": "code", 
            "metadata": {}, 
            "outputs": [
                {
                    "execution_count": 132, 
                    "metadata": {}, 
                    "data": {
                        "text/html": "<div>\n<style scoped>\n    .dataframe tbody tr th:only-of-type {\n        vertical-align: middle;\n    }\n\n    .dataframe tbody tr th {\n        vertical-align: top;\n    }\n\n    .dataframe thead th {\n        text-align: right;\n    }\n</style>\n<table border=\"1\" class=\"dataframe\">\n  <thead>\n    <tr style=\"text-align: right;\">\n      <th></th>\n      <th>Principal</th>\n      <th>terms</th>\n      <th>age</th>\n      <th>Gender</th>\n      <th>Bechalor</th>\n      <th>High School or Below</th>\n      <th>college</th>\n    </tr>\n  </thead>\n  <tbody>\n    <tr>\n      <th>0</th>\n      <td>1000</td>\n      <td>30</td>\n      <td>45</td>\n      <td>0</td>\n      <td>0</td>\n      <td>1</td>\n      <td>0</td>\n    </tr>\n    <tr>\n      <th>1</th>\n      <td>1000</td>\n      <td>30</td>\n      <td>50</td>\n      <td>1</td>\n      <td>1</td>\n      <td>0</td>\n      <td>0</td>\n    </tr>\n    <tr>\n      <th>2</th>\n      <td>1000</td>\n      <td>30</td>\n      <td>33</td>\n      <td>1</td>\n      <td>1</td>\n      <td>0</td>\n      <td>0</td>\n    </tr>\n    <tr>\n      <th>3</th>\n      <td>1000</td>\n      <td>15</td>\n      <td>27</td>\n      <td>0</td>\n      <td>0</td>\n      <td>0</td>\n      <td>1</td>\n    </tr>\n    <tr>\n      <th>4</th>\n      <td>1000</td>\n      <td>30</td>\n      <td>28</td>\n      <td>1</td>\n      <td>0</td>\n      <td>0</td>\n      <td>1</td>\n    </tr>\n  </tbody>\n</table>\n</div>", 
                        "text/plain": "   Principal  terms  age  Gender  Bechalor  High School or Below  college\n0       1000     30   45       0         0                     1        0\n1       1000     30   50       1         1                     0        0\n2       1000     30   33       1         1                     0        0\n3       1000     15   27       0         0                     0        1\n4       1000     30   28       1         0                     0        1"
                    }, 
                    "output_type": "execute_result"
                }
            ], 
            "source": "X = Feature\nX[0:5]"
        }, 
        {
            "execution_count": 133, 
            "cell_type": "code", 
            "metadata": {}, 
            "outputs": [
                {
                    "execution_count": 133, 
                    "metadata": {}, 
                    "data": {
                        "text/plain": "0    PAIDOFF\n1    PAIDOFF\n2    PAIDOFF\n3    PAIDOFF\n4    PAIDOFF\nName: loan_status, dtype: object"
                    }, 
                    "output_type": "execute_result"
                }
            ], 
            "source": "y = my_data['loan_status']\ny.head()"
        }, 
        {
            "source": "# Normalize  data", 
            "cell_type": "markdown", 
            "metadata": {}
        }, 
        {
            "execution_count": 134, 
            "cell_type": "code", 
            "metadata": {
                "scrolled": true
            }, 
            "outputs": [
                {
                    "execution_count": 134, 
                    "metadata": {}, 
                    "data": {
                        "text/plain": "array([[ 0.49337687,  0.89789115,  2.28404253, -0.42665337, -0.39336295,\n         1.17997648, -0.88640526],\n       [ 0.49337687,  0.89789115,  3.10658738,  2.34382305,  2.54218146,\n        -0.84747452, -0.88640526],\n       [ 0.49337687,  0.89789115,  0.3099349 ,  2.34382305,  2.54218146,\n        -0.84747452, -0.88640526],\n       [ 0.49337687, -0.97897162, -0.67711892, -0.42665337, -0.39336295,\n        -0.84747452,  1.12815215],\n       [ 0.49337687,  0.89789115, -0.51260995,  2.34382305, -0.39336295,\n        -0.84747452,  1.12815215]])"
                    }, 
                    "output_type": "execute_result"
                }
            ], 
            "source": "X = preprocessing.StandardScaler().fit(X).transform(X.astype(float))\nX[0:5]"
        }, 
        {
            "source": "# Train Test Split ", 
            "cell_type": "markdown", 
            "metadata": {}
        }, 
        {
            "execution_count": 135, 
            "cell_type": "code", 
            "metadata": {}, 
            "outputs": [
                {
                    "output_type": "stream", 
                    "name": "stdout", 
                    "text": "Train set: (400, 7) (400,)\nTest set: (100, 7) (100,)\n"
                }
            ], 
            "source": "from sklearn.model_selection import train_test_split\nX_train, X_test, y_train, y_test = train_test_split( X, y, test_size=0.2, random_state=4)\nprint ('Train set:', X_train.shape,  y_train.shape)\nprint ('Test set:', X_test.shape,  y_test.shape)"
        }, 
        {
            "source": "# Classification", 
            "cell_type": "markdown", 
            "metadata": {}
        }, 
        {
            "source": "### K nearest neighbor(KNN)", 
            "cell_type": "markdown", 
            "metadata": {}
        }, 
        {
            "execution_count": 136, 
            "cell_type": "code", 
            "metadata": {}, 
            "outputs": [], 
            "source": "from sklearn.neighbors import KNeighborsClassifier"
        }, 
        {
            "source": "# Training", 
            "cell_type": "markdown", 
            "metadata": {}
        }, 
        {
            "source": "#### when k=4", 
            "cell_type": "markdown", 
            "metadata": {}
        }, 
        {
            "execution_count": 137, 
            "cell_type": "code", 
            "metadata": {}, 
            "outputs": [
                {
                    "execution_count": 137, 
                    "metadata": {}, 
                    "data": {
                        "text/plain": "KNeighborsClassifier(algorithm='auto', leaf_size=30, metric='minkowski',\n           metric_params=None, n_jobs=1, n_neighbors=7, p=2,\n           weights='uniform')"
                    }, 
                    "output_type": "execute_result"
                }
            ], 
            "source": "k = 7\n#Train Model and Predict  \nneigh = KNeighborsClassifier(n_neighbors = k).fit(X_train,y_train)\nneigh"
        }, 
        {
            "source": "# Predicting", 
            "cell_type": "markdown", 
            "metadata": {}
        }, 
        {
            "execution_count": 138, 
            "cell_type": "code", 
            "metadata": {}, 
            "outputs": [
                {
                    "execution_count": 138, 
                    "metadata": {}, 
                    "data": {
                        "text/plain": "array(['COLLECTION_PAIDOFF', 'PAIDOFF', 'PAIDOFF', 'PAIDOFF', 'PAIDOFF'], dtype=object)"
                    }, 
                    "output_type": "execute_result"
                }
            ], 
            "source": "yhat = neigh.predict(X_test)\nyhat[0:5]"
        }, 
        {
            "source": "# Accuracy Evaluation", 
            "cell_type": "markdown", 
            "metadata": {}
        }, 
        {
            "execution_count": 139, 
            "cell_type": "code", 
            "metadata": {}, 
            "outputs": [
                {
                    "output_type": "stream", 
                    "name": "stdout", 
                    "text": "Train set Accuracy:  0.5825\nTest set Accuracy:  0.55\n"
                }
            ], 
            "source": "from sklearn import metrics\nprint(\"Train set Accuracy: \", metrics.accuracy_score(y_train, neigh.predict(X_train)))\nprint(\"Test set Accuracy: \", metrics.accuracy_score(y_test, yhat))"
        }, 
        {
            "execution_count": 140, 
            "cell_type": "code", 
            "metadata": {}, 
            "outputs": [], 
            "source": "from sklearn.metrics import jaccard_similarity_score\nfrom sklearn.metrics import f1_score\nfrom sklearn.metrics import log_loss"
        }, 
        {
            "execution_count": 141, 
            "cell_type": "code", 
            "metadata": {}, 
            "outputs": [
                {
                    "output_type": "stream", 
                    "name": "stdout", 
                    "text": "Jaccard score:  0.55\nLogloss score:  2.24290076805\nF1 score:  [ 0.1875      0.07407407  0.72340426]\n"
                }
            ], 
            "source": "print(\"Jaccard score: \", jaccard_similarity_score(y_test,yhat))\nprint(\"Logloss score: \", log_loss(y_test,neigh.predict_proba(X_test)))\nprint(\"F1 score: \", f1_score(y_test,yhat,average=None))"
        }, 
        {
            "source": "### with other k values", 
            "cell_type": "markdown", 
            "metadata": {}
        }, 
        {
            "execution_count": 142, 
            "cell_type": "code", 
            "metadata": {}, 
            "outputs": [
                {
                    "execution_count": 142, 
                    "metadata": {}, 
                    "data": {
                        "text/plain": "array([ 0.38,  0.33,  0.49,  0.5 ,  0.5 ,  0.54,  0.55,  0.56,  0.62])"
                    }, 
                    "output_type": "execute_result"
                }
            ], 
            "source": "Ks = 10\nmean_acc = np.zeros((Ks-1))\nstd_acc = np.zeros((Ks-1))\nConfustionMx = [];\nfor n in range(1,Ks):\n    \n    #Train Model and Predict  \n    neigh = KNeighborsClassifier(n_neighbors = n).fit(X_train,y_train)\n    yhat=neigh.predict(X_test)\n    mean_acc[n-1] = metrics.accuracy_score(y_test, yhat)\n\n    \n    std_acc[n-1]=np.std(yhat==y_test)/np.sqrt(yhat.shape[0])\n\nmean_acc"
        }, 
        {
            "source": "## Plotting for different values of k", 
            "cell_type": "markdown", 
            "metadata": {}
        }, 
        {
            "execution_count": 143, 
            "cell_type": "code", 
            "metadata": {}, 
            "outputs": [
                {
                    "output_type": "display_data", 
                    "data": {
                        "image/png": "[encoded data removed]", 
                        "text/plain": "<matplotlib.figure.Figure at 0x7fad20599358>"
                    }, 
                    "metadata": {}
                }
            ], 
            "source": "plt.plot(range(1,Ks),mean_acc,'g')\nplt.fill_between(range(1,Ks),mean_acc - 1 * std_acc,mean_acc + 1 * std_acc, alpha=0.10)\nplt.legend(('Accuracy ', '+/- 3xstd'))\nplt.ylabel('Accuracy ')\nplt.xlabel('Number of Nabors (K)')\nplt.tight_layout()\nplt.show()"
        }, 
        {
            "execution_count": 144, 
            "cell_type": "code", 
            "metadata": {}, 
            "outputs": [
                {
                    "output_type": "stream", 
                    "name": "stdout", 
                    "text": "The best accuracy was with 0.62 with k= 9\n"
                }
            ], 
            "source": "print( \"The best accuracy was with\", mean_acc.max(), \"with k=\", mean_acc.argmax()+1) "
        }, 
        {
            "source": "# Building the model for Decision Tree", 
            "cell_type": "markdown", 
            "metadata": {}
        }, 
        {
            "source": "## Setting up the Decision Tree", 
            "cell_type": "markdown", 
            "metadata": {}
        }, 
        {
            "source": "#### We will be using train/test split on our decision tree. Let's import train_test_split from sklearn.cross_validation.", 
            "cell_type": "markdown", 
            "metadata": {}
        }, 
        {
            "execution_count": 145, 
            "cell_type": "code", 
            "metadata": {}, 
            "outputs": [], 
            "source": "from sklearn.model_selection import train_test_split"
        }, 
        {
            "execution_count": 146, 
            "cell_type": "code", 
            "metadata": {}, 
            "outputs": [], 
            "source": "X_trainset, X_testset, y_trainset, y_testset = train_test_split(X, y, test_size=0.3, random_state=3)"
        }, 
        {
            "source": "# Modeling", 
            "cell_type": "markdown", 
            "metadata": {}
        }, 
        {
            "execution_count": 147, 
            "cell_type": "code", 
            "metadata": {}, 
            "outputs": [
                {
                    "execution_count": 147, 
                    "metadata": {}, 
                    "data": {
                        "text/plain": "DecisionTreeClassifier(class_weight=None, criterion='entropy', max_depth=4,\n            max_features=None, max_leaf_nodes=None,\n            min_impurity_decrease=0.0, min_impurity_split=None,\n            min_samples_leaf=1, min_samples_split=2,\n            min_weight_fraction_leaf=0.0, presort=False, random_state=None,\n            splitter='best')"
                    }, 
                    "output_type": "execute_result"
                }
            ], 
            "source": "LoanTree = DecisionTreeClassifier(criterion=\"entropy\", max_depth = 4)\nLoanTree # it shows the default parameters"
        }, 
        {
            "execution_count": 148, 
            "cell_type": "code", 
            "metadata": {}, 
            "outputs": [
                {
                    "execution_count": 148, 
                    "metadata": {}, 
                    "data": {
                        "text/plain": "DecisionTreeClassifier(class_weight=None, criterion='entropy', max_depth=4,\n            max_features=None, max_leaf_nodes=None,\n            min_impurity_decrease=0.0, min_impurity_split=None,\n            min_samples_leaf=1, min_samples_split=2,\n            min_weight_fraction_leaf=0.0, presort=False, random_state=None,\n            splitter='best')"
                    }, 
                    "output_type": "execute_result"
                }
            ], 
            "source": "LoanTree.fit(X_trainset,y_trainset)"
        }, 
        {
            "source": "# Prediction", 
            "cell_type": "markdown", 
            "metadata": {}
        }, 
        {
            "execution_count": 149, 
            "cell_type": "code", 
            "metadata": {}, 
            "outputs": [], 
            "source": "predTree = LoanTree.predict(X_testset)"
        }, 
        {
            "execution_count": 150, 
            "cell_type": "code", 
            "metadata": {}, 
            "outputs": [
                {
                    "output_type": "stream", 
                    "name": "stdout", 
                    "text": "['PAIDOFF' 'PAIDOFF' 'PAIDOFF' 'PAIDOFF' 'PAIDOFF']\n130    PAIDOFF\n291    PAIDOFF\n37     PAIDOFF\n239    PAIDOFF\n191    PAIDOFF\nName: loan_status, dtype: object\n"
                }
            ], 
            "source": "print (predTree [0:5])\nprint (y_testset [0:5])\n"
        }, 
        {
            "source": "# Evaluation", 
            "cell_type": "markdown", 
            "metadata": {}
        }, 
        {
            "execution_count": 151, 
            "cell_type": "code", 
            "metadata": {}, 
            "outputs": [
                {
                    "output_type": "stream", 
                    "name": "stdout", 
                    "text": "DecisionTrees's Accuracy:  0.626666666667\n"
                }
            ], 
            "source": "from sklearn import metrics\nimport matplotlib.pyplot as plt\nprint(\"DecisionTrees's Accuracy: \", metrics.accuracy_score(y_testset, predTree))"
        }, 
        {
            "execution_count": 152, 
            "cell_type": "code", 
            "metadata": {}, 
            "outputs": [
                {
                    "output_type": "stream", 
                    "name": "stdout", 
                    "text": "Jaccard score:  0.626666666667\nLogloss score:  1.16033118632\nF1 score:  0.487978142077\n"
                }, 
                {
                    "output_type": "stream", 
                    "name": "stderr", 
                    "text": "/opt/conda/envs/DSX-Python35/lib/python3.5/site-packages/sklearn/metrics/classification.py:1135: UndefinedMetricWarning: F-score is ill-defined and being set to 0.0 in labels with no predicted samples.\n  'precision', 'predicted', average, warn_for)\n"
                }
            ], 
            "source": "print(\"Jaccard score: \", jaccard_similarity_score(y_testset, predTree))\nprint(\"Logloss score: \", log_loss(y_test,LoanTree.predict_proba(X_test)))\n\nprint(\"F1 score: \", f1_score(y_testset, predTree,average='weighted'))"
        }, 
        {
            "source": "# Building the model using SVM", 
            "cell_type": "markdown", 
            "metadata": {}
        }, 
        {
            "source": "## Train/Test Data", 
            "cell_type": "markdown", 
            "metadata": {}
        }, 
        {
            "execution_count": 153, 
            "cell_type": "code", 
            "metadata": {}, 
            "outputs": [
                {
                    "output_type": "stream", 
                    "name": "stdout", 
                    "text": "Train set: (400, 7) (400,)\nTest set: (100, 7) (100,)\n"
                }
            ], 
            "source": "X_train, X_test, y_train, y_test = train_test_split( X, y, test_size=0.2, random_state=4)\nprint ('Train set:', X_train.shape,  y_train.shape)\nprint ('Test set:', X_test.shape,  y_test.shape)"
        }, 
        {
            "source": "## Modeling (SVM with Scikit-learn)", 
            "cell_type": "markdown", 
            "metadata": {}
        }, 
        {
            "execution_count": 154, 
            "cell_type": "code", 
            "metadata": {}, 
            "outputs": [
                {
                    "execution_count": 154, 
                    "metadata": {}, 
                    "data": {
                        "text/plain": "SVC(C=1.0, cache_size=200, class_weight=None, coef0=0.0,\n  decision_function_shape='ovr', degree=3, gamma='auto', kernel='rbf',\n  max_iter=-1, probability=False, random_state=None, shrinking=True,\n  tol=0.001, verbose=False)"
                    }, 
                    "output_type": "execute_result"
                }
            ], 
            "source": "from sklearn import svm\nclf = svm.SVC(kernel='rbf')\nclf.fit(X_train, y_train) "
        }, 
        {
            "execution_count": 155, 
            "cell_type": "code", 
            "metadata": {}, 
            "outputs": [
                {
                    "execution_count": 155, 
                    "metadata": {}, 
                    "data": {
                        "text/plain": "array(['PAIDOFF', 'PAIDOFF', 'PAIDOFF', 'PAIDOFF', 'PAIDOFF'], dtype=object)"
                    }, 
                    "output_type": "execute_result"
                }
            ], 
            "source": "yhat = clf.predict(X_test)\nyhat [0:5]"
        }, 
        {
            "execution_count": 156, 
            "cell_type": "code", 
            "metadata": {}, 
            "outputs": [
                {
                    "output_type": "stream", 
                    "name": "stdout", 
                    "text": "SVM's Accuracy:  0.66\n"
                }
            ], 
            "source": "print(\"SVM's Accuracy: \", metrics.accuracy_score(y_test, yhat))"
        }, 
        {
            "source": "## Evaluation", 
            "cell_type": "markdown", 
            "metadata": {}
        }, 
        {
            "source": "#### f1_score", 
            "cell_type": "markdown", 
            "metadata": {}
        }, 
        {
            "execution_count": 157, 
            "cell_type": "code", 
            "metadata": {}, 
            "outputs": [
                {
                    "output_type": "stream", 
                    "name": "stderr", 
                    "text": "/opt/conda/envs/DSX-Python35/lib/python3.5/site-packages/sklearn/metrics/classification.py:1135: UndefinedMetricWarning: F-score is ill-defined and being set to 0.0 in labels with no predicted samples.\n  'precision', 'predicted', average, warn_for)\n"
                }, 
                {
                    "execution_count": 157, 
                    "metadata": {}, 
                    "data": {
                        "text/plain": "0.52481927710843368"
                    }, 
                    "output_type": "execute_result"
                }
            ], 
            "source": "from sklearn.metrics import f1_score\nf1_score(y_test, yhat, average='weighted') "
        }, 
        {
            "execution_count": 158, 
            "cell_type": "code", 
            "metadata": {}, 
            "outputs": [
                {
                    "output_type": "stream", 
                    "name": "stdout", 
                    "text": "F1 score:  0.524819277108\n"
                }, 
                {
                    "output_type": "stream", 
                    "name": "stderr", 
                    "text": "/opt/conda/envs/DSX-Python35/lib/python3.5/site-packages/sklearn/metrics/classification.py:1135: UndefinedMetricWarning: F-score is ill-defined and being set to 0.0 in labels with no predicted samples.\n  'precision', 'predicted', average, warn_for)\n"
                }
            ], 
            "source": "\nprint(\"F1 score: \", f1_score(y_test,yhat,average='weighted'))\n"
        }, 
        {
            "source": "#### jaccard index for accuracy", 
            "cell_type": "markdown", 
            "metadata": {}
        }, 
        {
            "execution_count": 159, 
            "cell_type": "code", 
            "metadata": {}, 
            "outputs": [
                {
                    "execution_count": 159, 
                    "metadata": {}, 
                    "data": {
                        "text/plain": "0.66000000000000003"
                    }, 
                    "output_type": "execute_result"
                }
            ], 
            "source": "from sklearn.metrics import jaccard_similarity_score\njaccard_similarity_score(y_test, yhat)"
        }, 
        {
            "source": "# Building Model using Logistic Regression", 
            "cell_type": "markdown", 
            "metadata": {}
        }, 
        {
            "source": "### Train/Test Data", 
            "cell_type": "markdown", 
            "metadata": {}
        }, 
        {
            "execution_count": 160, 
            "cell_type": "code", 
            "metadata": {}, 
            "outputs": [
                {
                    "output_type": "stream", 
                    "name": "stdout", 
                    "text": "Train set: (400, 7) (400,)\nTest set: (100, 7) (100,)\n"
                }
            ], 
            "source": "from sklearn.model_selection import train_test_split\nX_train, X_test, y_train, y_test = train_test_split( X, y, test_size=0.2, random_state=4)\nprint ('Train set:', X_train.shape,  y_train.shape)\nprint ('Test set:', X_test.shape,  y_test.shape)"
        }, 
        {
            "source": "### Modeling (Logistic Regression with Scikit-learn)", 
            "cell_type": "markdown", 
            "metadata": {}
        }, 
        {
            "execution_count": 161, 
            "cell_type": "code", 
            "metadata": {}, 
            "outputs": [
                {
                    "execution_count": 161, 
                    "metadata": {}, 
                    "data": {
                        "text/plain": "LogisticRegression(C=0.01, class_weight=None, dual=False, fit_intercept=True,\n          intercept_scaling=1, max_iter=100, multi_class='ovr', n_jobs=1,\n          penalty='l2', random_state=None, solver='liblinear', tol=0.0001,\n          verbose=0, warm_start=False)"
                    }, 
                    "output_type": "execute_result"
                }
            ], 
            "source": "from sklearn.linear_model import LogisticRegression\nfrom sklearn.metrics import confusion_matrix\nLR = LogisticRegression(C=0.01, solver='liblinear').fit(X_train,y_train)\nLR"
        }, 
        {
            "execution_count": 162, 
            "cell_type": "code", 
            "metadata": {
                "scrolled": true
            }, 
            "outputs": [
                {
                    "execution_count": 162, 
                    "metadata": {}, 
                    "data": {
                        "text/plain": "array(['PAIDOFF', 'PAIDOFF', 'PAIDOFF', 'PAIDOFF', 'PAIDOFF', 'PAIDOFF',\n       'PAIDOFF', 'PAIDOFF', 'PAIDOFF', 'PAIDOFF', 'PAIDOFF', 'PAIDOFF',\n       'PAIDOFF', 'PAIDOFF', 'PAIDOFF', 'PAIDOFF', 'PAIDOFF', 'PAIDOFF',\n       'PAIDOFF', 'PAIDOFF', 'PAIDOFF', 'PAIDOFF', 'PAIDOFF', 'PAIDOFF',\n       'PAIDOFF', 'PAIDOFF', 'PAIDOFF', 'PAIDOFF', 'PAIDOFF', 'PAIDOFF',\n       'PAIDOFF', 'PAIDOFF', 'PAIDOFF', 'PAIDOFF', 'PAIDOFF', 'PAIDOFF',\n       'PAIDOFF', 'PAIDOFF', 'PAIDOFF', 'PAIDOFF', 'PAIDOFF', 'PAIDOFF',\n       'PAIDOFF', 'PAIDOFF', 'PAIDOFF', 'PAIDOFF', 'PAIDOFF', 'PAIDOFF',\n       'PAIDOFF', 'PAIDOFF', 'PAIDOFF', 'PAIDOFF', 'PAIDOFF', 'PAIDOFF',\n       'PAIDOFF', 'PAIDOFF', 'PAIDOFF', 'PAIDOFF', 'PAIDOFF', 'PAIDOFF',\n       'PAIDOFF', 'PAIDOFF', 'PAIDOFF', 'PAIDOFF', 'PAIDOFF', 'PAIDOFF',\n       'PAIDOFF', 'PAIDOFF', 'PAIDOFF', 'PAIDOFF', 'PAIDOFF', 'PAIDOFF',\n       'PAIDOFF', 'PAIDOFF', 'PAIDOFF', 'PAIDOFF', 'PAIDOFF', 'PAIDOFF',\n       'PAIDOFF', 'PAIDOFF', 'PAIDOFF', 'PAIDOFF', 'PAIDOFF', 'PAIDOFF',\n       'PAIDOFF', 'PAIDOFF', 'PAIDOFF', 'PAIDOFF', 'PAIDOFF', 'PAIDOFF',\n       'PAIDOFF', 'PAIDOFF', 'PAIDOFF', 'PAIDOFF', 'PAIDOFF', 'PAIDOFF',\n       'PAIDOFF', 'PAIDOFF', 'PAIDOFF', 'PAIDOFF'], dtype=object)"
                    }, 
                    "output_type": "execute_result"
                }
            ], 
            "source": "yhat = LR.predict(X_test)\nyhat"
        }, 
        {
            "execution_count": 163, 
            "cell_type": "code", 
            "metadata": {}, 
            "outputs": [
                {
                    "execution_count": 163, 
                    "metadata": {}, 
                    "data": {
                        "text/plain": "array([[ 0.28071445,  0.3055821 ,  0.41370345],\n       [ 0.1997919 ,  0.24137317,  0.55883494],\n       [ 0.27966075,  0.28286963,  0.43746962],\n       [ 0.27677106,  0.30916513,  0.41406382],\n       [ 0.25601242,  0.27092982,  0.47305776],\n       [ 0.30220187,  0.27837809,  0.41942005],\n       [ 0.32419427,  0.28503097,  0.39077476],\n       [ 0.32626007,  0.28324186,  0.39049807],\n       [ 0.2899504 ,  0.30002716,  0.41002243],\n       [ 0.30220187,  0.27837809,  0.41942005],\n       [ 0.28928546,  0.30062409,  0.41009046],\n       [ 0.28399268,  0.30539201,  0.41061531],\n       [ 0.24303188,  0.26388511,  0.49308302],\n       [ 0.2899504 ,  0.30002716,  0.41002243],\n       [ 0.29328412,  0.27634451,  0.43037137],\n       [ 0.2774622 ,  0.26743325,  0.45510456],\n       [ 0.32763994,  0.282049  ,  0.39031107],\n       [ 0.28606976,  0.28283176,  0.43109848],\n       [ 0.31462059,  0.29337295,  0.39200646],\n       [ 0.30286573,  0.27778942,  0.41934485],\n       [ 0.30419525,  0.27661203,  0.41919272],\n       [ 0.28446506,  0.26105754,  0.4544774 ],\n       [ 0.29691284,  0.28308618,  0.42000098],\n       [ 0.28663307,  0.30300978,  0.41035716],\n       [ 0.27836419,  0.2840511 ,  0.43758471],\n       [ 0.29328604,  0.29703983,  0.40967413],\n       [ 0.29061608,  0.29943005,  0.40995387],\n       [ 0.31222044,  0.26954874,  0.41823082],\n       [ 0.29089489,  0.25527059,  0.45383452],\n       [ 0.27192515,  0.28995247,  0.43812237],\n       [ 0.32350676,  0.28562727,  0.39086598],\n       [ 0.20077462,  0.231108  ,  0.56811737],\n       [ 0.32213338,  0.28681972,  0.39104691],\n       [ 0.28638784,  0.25932028,  0.45429188],\n       [ 0.25425449,  0.29605635,  0.44968916],\n       [ 0.32281979,  0.28622352,  0.39095669],\n       [ 0.28928546,  0.30062409,  0.41009046],\n       [ 0.32557093,  0.28383826,  0.3905908 ],\n       [ 0.32350676,  0.28562727,  0.39086598],\n       [ 0.25355857,  0.27325429,  0.47318714],\n       [ 0.32557093,  0.28383826,  0.3905908 ],\n       [ 0.28795778,  0.30181734,  0.41022488],\n       [ 0.29493975,  0.28485078,  0.42020947],\n       [ 0.32419427,  0.28503097,  0.39077476],\n       [ 0.32281979,  0.28622352,  0.39095669],\n       [ 0.31939335,  0.28920389,  0.39140276],\n       [ 0.28071445,  0.3055821 ,  0.41370345],\n       [ 0.265393  ,  0.29293148,  0.44167552],\n       [ 0.32144752,  0.28741586,  0.39113662],\n       [ 0.32350676,  0.28562727,  0.39086598],\n       [ 0.24506714,  0.2813834 ,  0.47354945],\n       [ 0.30686128,  0.27425723,  0.41888149],\n       [ 0.3200775 ,  0.28860795,  0.39131454],\n       [ 0.27415828,  0.31154847,  0.41429325],\n       [ 0.2541709 ,  0.27267321,  0.47315589],\n       [ 0.30244507,  0.2644075 ,  0.43314743],\n       [ 0.24808215,  0.27848184,  0.47343601],\n       [ 0.28928546,  0.30062409,  0.41009046],\n       [ 0.32557093,  0.28383826,  0.3905908 ],\n       [ 0.29823139,  0.28190944,  0.41985917],\n       [ 0.24954127,  0.2736637 ,  0.47679503],\n       [ 0.28802937,  0.28106305,  0.43090758],\n       [ 0.29061608,  0.29943005,  0.40995387],\n       [ 0.31939335,  0.28920389,  0.39140276],\n       [ 0.2899504 ,  0.30002716,  0.41002243],\n       [ 0.27940161,  0.30955154,  0.41104685],\n       [ 0.28663307,  0.30300978,  0.41035716],\n       [ 0.24226893,  0.30429579,  0.45343528],\n       [ 0.29154105,  0.25469258,  0.45376636],\n       [ 0.28411627,  0.28459982,  0.43128391],\n       [ 0.24868753,  0.27790126,  0.47341121],\n       [ 0.2706463 ,  0.29113125,  0.43822245],\n       [ 0.31598128,  0.29218229,  0.39183643],\n       [ 0.27698537,  0.25428456,  0.46873007],\n       [ 0.29128249,  0.29883276,  0.40988475],\n       [ 0.30244507,  0.2644075 ,  0.43314743],\n       [ 0.28862125,  0.30122081,  0.41015794],\n       [ 0.31734435,  0.29099121,  0.39166444],\n       [ 0.28862125,  0.30122081,  0.41015794],\n       [ 0.27513544,  0.28700319,  0.43786137],\n       [ 0.28729505,  0.30241367,  0.41029129],\n       [ 0.25847822,  0.26860516,  0.47291662],\n       [ 0.32488233,  0.28443463,  0.39068303],\n       [ 0.30112596,  0.26557554,  0.43329851],\n       [ 0.29194962,  0.29823529,  0.4098151 ],\n       [ 0.30005279,  0.27282912,  0.42711809],\n       [ 0.31154862,  0.27013715,  0.41831423],\n       [ 0.25909651,  0.26802401,  0.47287948],\n       [ 0.28087433,  0.28754478,  0.43158089],\n       [ 0.25549988,  0.29488011,  0.44962002],\n       [ 0.31020661,  0.27131413,  0.41847926],\n       [ 0.22867509,  0.29097997,  0.48034493],\n       [ 0.271416  ,  0.27022385,  0.45836015],\n       [ 0.2899504 ,  0.30002716,  0.41002243],\n       [ 0.27267778,  0.26906043,  0.45826179],\n       [ 0.2265792 ,  0.26588079,  0.50754001],\n       [ 0.29061608,  0.29943005,  0.40995387],\n       [ 0.24687376,  0.27964275,  0.47348349],\n       [ 0.28254771,  0.2627956 ,  0.45465668],\n       [ 0.27939679,  0.30677745,  0.41382576]])"
                    }, 
                    "output_type": "execute_result"
                }
            ], 
            "source": "yhat_prob = LR.predict_proba(X_test)\nyhat_prob"
        }, 
        {
            "source": "## Evaluation", 
            "cell_type": "markdown", 
            "metadata": {}
        }, 
        {
            "execution_count": 164, 
            "cell_type": "code", 
            "metadata": {}, 
            "outputs": [
                {
                    "execution_count": 164, 
                    "metadata": {}, 
                    "data": {
                        "text/plain": "0.66000000000000003"
                    }, 
                    "output_type": "execute_result"
                }
            ], 
            "source": "from sklearn.metrics import jaccard_similarity_score\njaccard_similarity_score(y_test, yhat)"
        }, 
        {
            "execution_count": 165, 
            "cell_type": "code", 
            "metadata": {}, 
            "outputs": [
                {
                    "output_type": "stream", 
                    "name": "stdout", 
                    "text": "F1 score:  0.524819277108\n"
                }, 
                {
                    "output_type": "stream", 
                    "name": "stderr", 
                    "text": "/opt/conda/envs/DSX-Python35/lib/python3.5/site-packages/sklearn/metrics/classification.py:1135: UndefinedMetricWarning: F-score is ill-defined and being set to 0.0 in labels with no predicted samples.\n  'precision', 'predicted', average, warn_for)\n"
                }
            ], 
            "source": "\nprint(\"F1 score: \", f1_score(y_test,yhat,average='weighted'))\n"
        }, 
        {
            "source": "### log loss", 
            "cell_type": "markdown", 
            "metadata": {}
        }, 
        {
            "execution_count": 166, 
            "cell_type": "code", 
            "metadata": {}, 
            "outputs": [
                {
                    "execution_count": 166, 
                    "metadata": {}, 
                    "data": {
                        "text/plain": "0.98330665952307073"
                    }, 
                    "output_type": "execute_result"
                }
            ], 
            "source": "from sklearn.metrics import log_loss\nlog_loss(y_test, yhat_prob)"
        }
    ], 
    "metadata": {
        "kernelspec": {
            "display_name": "Python 3.5", 
            "name": "python3", 
            "language": "python"
        }, 
        "language_info": {
            "mimetype": "text/x-python", 
            "nbconvert_exporter": "python", 
            "version": "3.5.5", 
            "name": "python", 
            "file_extension": ".py", 
            "pygments_lexer": "ipython3", 
            "codemirror_mode": {
                "version": 3, 
                "name": "ipython"
            }
        }
    }, 
    "nbformat": 4
}